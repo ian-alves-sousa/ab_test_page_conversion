{
 "cells": [
  {
   "cell_type": "markdown",
   "metadata": {},
   "source": [
    "# AB Testing Course - PA James"
   ]
  },
  {
   "cell_type": "markdown",
   "metadata": {},
   "source": [
    "## 0.1 Imposts"
   ]
  },
  {
   "cell_type": "code",
   "execution_count": 52,
   "metadata": {},
   "outputs": [],
   "source": [
    "import pandas as pd\n",
    "import numpy as np\n",
    "import math\n",
    "from statsmodels.stats import api as sms\n",
    "from statsmodels.stats.multicomp import pairwise_tukeyhsd\n",
    "from scipy.stats import ttest_1samp,shapiro,ttest_ind,mannwhitneyu,f_oneway\n",
    "import seaborn as sns"
   ]
  },
  {
   "cell_type": "markdown",
   "metadata": {},
   "source": [
    "# 1.0 Load Data"
   ]
  },
  {
   "cell_type": "code",
   "execution_count": 2,
   "metadata": {},
   "outputs": [],
   "source": [
    "df_raw = pd.read_csv('../data/ab_data.csv')"
   ]
  },
  {
   "cell_type": "code",
   "execution_count": 3,
   "metadata": {},
   "outputs": [
    {
     "data": {
      "text/plain": [
       "(294478, 5)"
      ]
     },
     "execution_count": 3,
     "metadata": {},
     "output_type": "execute_result"
    }
   ],
   "source": [
    "df_raw.shape"
   ]
  },
  {
   "cell_type": "code",
   "execution_count": 4,
   "metadata": {},
   "outputs": [
    {
     "data": {
      "text/html": [
       "<div>\n",
       "<style scoped>\n",
       "    .dataframe tbody tr th:only-of-type {\n",
       "        vertical-align: middle;\n",
       "    }\n",
       "\n",
       "    .dataframe tbody tr th {\n",
       "        vertical-align: top;\n",
       "    }\n",
       "\n",
       "    .dataframe thead th {\n",
       "        text-align: right;\n",
       "    }\n",
       "</style>\n",
       "<table border=\"1\" class=\"dataframe\">\n",
       "  <thead>\n",
       "    <tr style=\"text-align: right;\">\n",
       "      <th></th>\n",
       "      <th>user_id</th>\n",
       "      <th>timestamp</th>\n",
       "      <th>group</th>\n",
       "      <th>landing_page</th>\n",
       "      <th>converted</th>\n",
       "    </tr>\n",
       "  </thead>\n",
       "  <tbody>\n",
       "    <tr>\n",
       "      <th>0</th>\n",
       "      <td>851104</td>\n",
       "      <td>2017-01-21 22:11:48.556739</td>\n",
       "      <td>control</td>\n",
       "      <td>old_page</td>\n",
       "      <td>0</td>\n",
       "    </tr>\n",
       "    <tr>\n",
       "      <th>1</th>\n",
       "      <td>804228</td>\n",
       "      <td>2017-01-12 08:01:45.159739</td>\n",
       "      <td>control</td>\n",
       "      <td>old_page</td>\n",
       "      <td>0</td>\n",
       "    </tr>\n",
       "    <tr>\n",
       "      <th>2</th>\n",
       "      <td>661590</td>\n",
       "      <td>2017-01-11 16:55:06.154213</td>\n",
       "      <td>treatment</td>\n",
       "      <td>new_page</td>\n",
       "      <td>0</td>\n",
       "    </tr>\n",
       "    <tr>\n",
       "      <th>3</th>\n",
       "      <td>853541</td>\n",
       "      <td>2017-01-08 18:28:03.143765</td>\n",
       "      <td>treatment</td>\n",
       "      <td>new_page</td>\n",
       "      <td>0</td>\n",
       "    </tr>\n",
       "    <tr>\n",
       "      <th>4</th>\n",
       "      <td>864975</td>\n",
       "      <td>2017-01-21 01:52:26.210827</td>\n",
       "      <td>control</td>\n",
       "      <td>old_page</td>\n",
       "      <td>1</td>\n",
       "    </tr>\n",
       "  </tbody>\n",
       "</table>\n",
       "</div>"
      ],
      "text/plain": [
       "   user_id                   timestamp      group landing_page  converted\n",
       "0   851104  2017-01-21 22:11:48.556739    control     old_page          0\n",
       "1   804228  2017-01-12 08:01:45.159739    control     old_page          0\n",
       "2   661590  2017-01-11 16:55:06.154213  treatment     new_page          0\n",
       "3   853541  2017-01-08 18:28:03.143765  treatment     new_page          0\n",
       "4   864975  2017-01-21 01:52:26.210827    control     old_page          1"
      ]
     },
     "execution_count": 4,
     "metadata": {},
     "output_type": "execute_result"
    }
   ],
   "source": [
    "df_raw.head()"
   ]
  },
  {
   "cell_type": "markdown",
   "metadata": {},
   "source": [
    "# 2.0 Design de Experimentos"
   ]
  },
  {
   "cell_type": "markdown",
   "metadata": {},
   "source": [
    "## 2.1 Formação das Hipóteses"
   ]
  },
  {
   "cell_type": "code",
   "execution_count": null,
   "metadata": {},
   "outputs": [],
   "source": []
  },
  {
   "cell_type": "markdown",
   "metadata": {},
   "source": [
    "## 2.2 Parâmetros do experimentos"
   ]
  },
  {
   "cell_type": "code",
   "execution_count": 5,
   "metadata": {},
   "outputs": [],
   "source": [
    "#nível de confiança\n",
    "confidence_level = 0.95\n",
    "\n",
    "#nível de significancia\n",
    "significance_level = 1 - confidence_level\n",
    "\n",
    "#conversões da página atual e da nova página\n",
    "p1 = 0.13 #atual\n",
    "p2 = 0.15 #novo\n",
    "\n",
    "#tamanho do efeito\n",
    "effect_size = sms.proportion_effectsize(p1,p2)\n",
    "\n",
    "#poder estatístico\n",
    "power = 0.8"
   ]
  },
  {
   "cell_type": "code",
   "execution_count": 6,
   "metadata": {},
   "outputs": [
    {
     "name": "stdout",
     "output_type": "stream",
     "text": [
      "O tamanho da amostra do grupo controle é de 4720.\n",
      "O tamanho da amostra do grupo de tratamento é de 4720.\n",
      "O tamanho total da amostra é de 9440.\n"
     ]
    }
   ],
   "source": [
    "#sample size - Tamanho da amostra\n",
    "sample_n = sms.NormalIndPower().solve_power(\n",
    "  effect_size,\n",
    "  power=power,\n",
    "  alpha=significance_level\n",
    ")\n",
    "\n",
    "sample_n = math.ceil(sample_n)\n",
    "print(f'O tamanho da amostra do grupo controle é de {sample_n}.')\n",
    "print(f'O tamanho da amostra do grupo de tratamento é de {sample_n}.')\n",
    "print(f'O tamanho total da amostra é de {sample_n*2}.')"
   ]
  },
  {
   "cell_type": "code",
   "execution_count": 7,
   "metadata": {},
   "outputs": [
    {
     "name": "stdout",
     "output_type": "stream",
     "text": [
      "O número de emails para enviar é de 47200 para cada grupo\n",
      "O número total de emails para enviar é de 94400\n"
     ]
    }
   ],
   "source": [
    "conversion_rate = 0.1\n",
    "x = sample_n/conversion_rate\n",
    "\n",
    "print(f'O número de emails para enviar é de {math.ceil(x)} para cada grupo')\n",
    "print(f'O número total de emails para enviar é de {math.ceil(x*2)}')"
   ]
  },
  {
   "cell_type": "code",
   "execution_count": 9,
   "metadata": {},
   "outputs": [
    {
     "name": "stdout",
     "output_type": "stream",
     "text": [
      "Number of rows: 294478\n",
      "Number of coljmns: 5\n"
     ]
    }
   ],
   "source": [
    "# 3.0 Análise descritiva dos dados\n",
    "print(f'Number of rows: {df_raw.shape[0]}')\n",
    "print(f'Number of coljmns: {df_raw.shape[1]}')"
   ]
  },
  {
   "cell_type": "code",
   "execution_count": 10,
   "metadata": {},
   "outputs": [
    {
     "data": {
      "text/plain": [
       "user_id         0\n",
       "timestamp       0\n",
       "group           0\n",
       "landing_page    0\n",
       "converted       0\n",
       "dtype: int64"
      ]
     },
     "execution_count": 10,
     "metadata": {},
     "output_type": "execute_result"
    }
   ],
   "source": [
    "# 3.1 Verificação dos dados faltantes\n",
    "df_raw.isna().sum()"
   ]
  },
  {
   "cell_type": "code",
   "execution_count": 16,
   "metadata": {},
   "outputs": [
    {
     "data": {
      "text/html": [
       "<div>\n",
       "<style scoped>\n",
       "    .dataframe tbody tr th:only-of-type {\n",
       "        vertical-align: middle;\n",
       "    }\n",
       "\n",
       "    .dataframe tbody tr th {\n",
       "        vertical-align: top;\n",
       "    }\n",
       "\n",
       "    .dataframe thead th {\n",
       "        text-align: right;\n",
       "    }\n",
       "</style>\n",
       "<table border=\"1\" class=\"dataframe\">\n",
       "  <thead>\n",
       "    <tr style=\"text-align: right;\">\n",
       "      <th></th>\n",
       "      <th>group</th>\n",
       "      <th>landing_page</th>\n",
       "      <th>user_id</th>\n",
       "    </tr>\n",
       "  </thead>\n",
       "  <tbody>\n",
       "    <tr>\n",
       "      <th>0</th>\n",
       "      <td>control</td>\n",
       "      <td>new_page</td>\n",
       "      <td>1928</td>\n",
       "    </tr>\n",
       "    <tr>\n",
       "      <th>1</th>\n",
       "      <td>control</td>\n",
       "      <td>old_page</td>\n",
       "      <td>145274</td>\n",
       "    </tr>\n",
       "    <tr>\n",
       "      <th>2</th>\n",
       "      <td>treatment</td>\n",
       "      <td>new_page</td>\n",
       "      <td>145311</td>\n",
       "    </tr>\n",
       "    <tr>\n",
       "      <th>3</th>\n",
       "      <td>treatment</td>\n",
       "      <td>old_page</td>\n",
       "      <td>1965</td>\n",
       "    </tr>\n",
       "  </tbody>\n",
       "</table>\n",
       "</div>"
      ],
      "text/plain": [
       "       group landing_page  user_id\n",
       "0    control     new_page     1928\n",
       "1    control     old_page   145274\n",
       "2  treatment     new_page   145311\n",
       "3  treatment     old_page     1965"
      ]
     },
     "execution_count": 16,
     "metadata": {},
     "output_type": "execute_result"
    }
   ],
   "source": [
    "# 3.2 Conferir as 'flags'\n",
    "df_raw.loc[:,['user_id', 'group', 'landing_page']].groupby(['group', 'landing_page']).count().reset_index()"
   ]
  },
  {
   "cell_type": "code",
   "execution_count": 18,
   "metadata": {},
   "outputs": [
    {
     "data": {
      "text/html": [
       "<div>\n",
       "<style scoped>\n",
       "    .dataframe tbody tr th:only-of-type {\n",
       "        vertical-align: middle;\n",
       "    }\n",
       "\n",
       "    .dataframe tbody tr th {\n",
       "        vertical-align: top;\n",
       "    }\n",
       "\n",
       "    .dataframe thead th {\n",
       "        text-align: right;\n",
       "    }\n",
       "</style>\n",
       "<table border=\"1\" class=\"dataframe\">\n",
       "  <thead>\n",
       "    <tr style=\"text-align: right;\">\n",
       "      <th></th>\n",
       "      <th>user_id</th>\n",
       "      <th>group</th>\n",
       "    </tr>\n",
       "  </thead>\n",
       "  <tbody>\n",
       "    <tr>\n",
       "      <th>0</th>\n",
       "      <td>729669</td>\n",
       "      <td>2</td>\n",
       "    </tr>\n",
       "    <tr>\n",
       "      <th>1</th>\n",
       "      <td>825266</td>\n",
       "      <td>2</td>\n",
       "    </tr>\n",
       "    <tr>\n",
       "      <th>2</th>\n",
       "      <td>663033</td>\n",
       "      <td>2</td>\n",
       "    </tr>\n",
       "    <tr>\n",
       "      <th>3</th>\n",
       "      <td>674959</td>\n",
       "      <td>2</td>\n",
       "    </tr>\n",
       "    <tr>\n",
       "      <th>4</th>\n",
       "      <td>875210</td>\n",
       "      <td>2</td>\n",
       "    </tr>\n",
       "    <tr>\n",
       "      <th>...</th>\n",
       "      <td>...</td>\n",
       "      <td>...</td>\n",
       "    </tr>\n",
       "    <tr>\n",
       "      <th>3889</th>\n",
       "      <td>800469</td>\n",
       "      <td>2</td>\n",
       "    </tr>\n",
       "    <tr>\n",
       "      <th>3890</th>\n",
       "      <td>738614</td>\n",
       "      <td>2</td>\n",
       "    </tr>\n",
       "    <tr>\n",
       "      <th>3891</th>\n",
       "      <td>651850</td>\n",
       "      <td>2</td>\n",
       "    </tr>\n",
       "    <tr>\n",
       "      <th>3892</th>\n",
       "      <td>720460</td>\n",
       "      <td>2</td>\n",
       "    </tr>\n",
       "    <tr>\n",
       "      <th>3893</th>\n",
       "      <td>673239</td>\n",
       "      <td>2</td>\n",
       "    </tr>\n",
       "  </tbody>\n",
       "</table>\n",
       "<p>3894 rows × 2 columns</p>\n",
       "</div>"
      ],
      "text/plain": [
       "      user_id  group\n",
       "0      729669      2\n",
       "1      825266      2\n",
       "2      663033      2\n",
       "3      674959      2\n",
       "4      875210      2\n",
       "...       ...    ...\n",
       "3889   800469      2\n",
       "3890   738614      2\n",
       "3891   651850      2\n",
       "3892   720460      2\n",
       "3893   673239      2\n",
       "\n",
       "[3894 rows x 2 columns]"
      ]
     },
     "execution_count": 18,
     "metadata": {},
     "output_type": "execute_result"
    }
   ],
   "source": [
    "# 3.3 Quantos usurários estão em mais de um grupo?\n",
    "df_raw.loc[:,['user_id', 'group']].groupby('user_id').count().sort_values(by = 'group',ascending=False).reset_index().query('group > 1')"
   ]
  },
  {
   "cell_type": "markdown",
   "metadata": {},
   "source": [
    "Vamos deletar os valores pois eles representam menos de 1% da base"
   ]
  },
  {
   "cell_type": "code",
   "execution_count": 23,
   "metadata": {},
   "outputs": [
    {
     "data": {
      "text/plain": [
       "(286690, 5)"
      ]
     },
     "execution_count": 23,
     "metadata": {},
     "output_type": "execute_result"
    }
   ],
   "source": [
    "user_delete = df_raw.loc[:,['user_id', 'group']].groupby('user_id').count().sort_values(by = 'group',ascending=False).reset_index().query('group > 1')['user_id']\n",
    "\n",
    "df1 = df_raw[~df_raw['user_id'].isin(user_delete)]\n",
    "df1.shape"
   ]
  },
  {
   "cell_type": "code",
   "execution_count": 25,
   "metadata": {},
   "outputs": [
    {
     "data": {
      "text/html": [
       "<div>\n",
       "<style scoped>\n",
       "    .dataframe tbody tr th:only-of-type {\n",
       "        vertical-align: middle;\n",
       "    }\n",
       "\n",
       "    .dataframe tbody tr th {\n",
       "        vertical-align: top;\n",
       "    }\n",
       "\n",
       "    .dataframe thead th {\n",
       "        text-align: right;\n",
       "    }\n",
       "</style>\n",
       "<table border=\"1\" class=\"dataframe\">\n",
       "  <thead>\n",
       "    <tr style=\"text-align: right;\">\n",
       "      <th></th>\n",
       "      <th>group</th>\n",
       "      <th>landing_page</th>\n",
       "      <th>user_id</th>\n",
       "    </tr>\n",
       "  </thead>\n",
       "  <tbody>\n",
       "    <tr>\n",
       "      <th>0</th>\n",
       "      <td>control</td>\n",
       "      <td>old_page</td>\n",
       "      <td>143293</td>\n",
       "    </tr>\n",
       "    <tr>\n",
       "      <th>1</th>\n",
       "      <td>treatment</td>\n",
       "      <td>new_page</td>\n",
       "      <td>143397</td>\n",
       "    </tr>\n",
       "  </tbody>\n",
       "</table>\n",
       "</div>"
      ],
      "text/plain": [
       "       group landing_page  user_id\n",
       "0    control     old_page   143293\n",
       "1  treatment     new_page   143397"
      ]
     },
     "execution_count": 25,
     "metadata": {},
     "output_type": "execute_result"
    }
   ],
   "source": [
    "# 3.4 Conferir as 'flags' depois de tirar os duplicados\n",
    "df1.loc[:,['user_id', 'group', 'landing_page']].groupby(['group', 'landing_page']).count().reset_index()"
   ]
  },
  {
   "cell_type": "code",
   "execution_count": 33,
   "metadata": {},
   "outputs": [
    {
     "name": "stdout",
     "output_type": "stream",
     "text": [
      "Size of Control Group: 4720\n",
      "Size of Treatment Group: 4720\n"
     ]
    }
   ],
   "source": [
    "### 3.5 Amostragem aleatória dos grupos de Controle e Tratamento\n",
    "#Grupo Controle\n",
    "df_control_sample = df1.loc[df1['group'] == 'control',:].sample(sample_n,random_state=42)\n",
    "print(f'Size of Control Group: {df_control_sample.shape[0]}')\n",
    "\n",
    "#Grupo Tratamento\n",
    "df_treatment_sample = df1.loc[df1['group'] == 'treatment',:].sample(sample_n,random_state=42)\n",
    "print(f'Size of Treatment Group: {df_treatment_sample.shape[0]}')\n",
    "\n",
    "#Total sample_size\n",
    "df_ab = pd.concat([df_treatment_sample,df_control_sample]).reset_index(drop=True)"
   ]
  },
  {
   "cell_type": "code",
   "execution_count": 40,
   "metadata": {},
   "outputs": [
    {
     "name": "stdout",
     "output_type": "stream",
     "text": [
      "Conversion Rate = Control Group: 11.55%\n",
      "Conversion Rate = Treatment Group: 12.9%\n"
     ]
    }
   ],
   "source": [
    "# Cálculo da métrica de interesse entre os grupos (Conversão da Página)\n",
    "# Conversão = compradores/visitantes\n",
    "# Grupo Controle\n",
    "sales_c = df_control_sample.loc[df_control_sample['converted'] == 1,'converted'].sum()\n",
    "visitors_c = df_control_sample.loc[:,'user_id'].count()\n",
    "\n",
    "conversion_rate_control = sales_c/visitors_c\n",
    "print(f'Conversion Rate = Control Group: {round(conversion_rate_control*100,2)}%')\n",
    "\n",
    "# Grupo de Tratamento\n",
    "sales_t = df_treatment_sample.loc[df_treatment_sample['converted'] == 1,'converted'].sum()\n",
    "visitors_t = df_treatment_sample.loc[:,'user_id'].count()\n",
    "\n",
    "conversion_rate_treatment = sales_t/visitors_t\n",
    "print(f'Conversion Rate = Treatment Group: {round(conversion_rate_treatment*100,2)}%')"
   ]
  },
  {
   "cell_type": "code",
   "execution_count": null,
   "metadata": {},
   "outputs": [],
   "source": [
    "#Z-Test é usado para testes paramétricos, onde eu tenho apenas um e 1, conversões, e não posso achar desvio padrão disso"
   ]
  },
  {
   "cell_type": "markdown",
   "metadata": {},
   "source": [
    "# 3. Testes Estatísticos"
   ]
  },
  {
   "cell_type": "markdown",
   "metadata": {},
   "source": [
    "## 3.1 One-Sample Test"
   ]
  },
  {
   "cell_type": "markdown",
   "metadata": {},
   "source": [
    "Problema 1: Suponha que uma bióloga gostaria de saber se altura média de uma certa espécie de planta é igual a 15 cm. Ela coleta amostras aleatórias de 12 plantas and anota cada uma de suas alturas em cm."
   ]
  },
  {
   "cell_type": "code",
   "execution_count": 16,
   "metadata": {},
   "outputs": [
    {
     "data": {
      "text/plain": [
       "14.333333333333334"
      ]
     },
     "execution_count": 16,
     "metadata": {},
     "output_type": "execute_result"
    }
   ],
   "source": [
    "df = [14, 14, 16, 13, 12, 17, 15, 14, 15, 13, 15, 14]\n",
    "media = np.mean(df)\n",
    "media\n",
    "#H0: u = 15 (Altura média das espécies das plantas, de fato é 15cm)\n",
    "#H1: u <> 15 (Altura média das espécies das plantas é diferente de 15cm)"
   ]
  },
  {
   "cell_type": "code",
   "execution_count": 15,
   "metadata": {},
   "outputs": [
    {
     "name": "stdout",
     "output_type": "stream",
     "text": [
      "p-value: 0.12014460742498101\n",
      "Falha em rejeitar a hipótese nula (Assume a hipótese nula)\n"
     ]
    }
   ],
   "source": [
    "statstic,p_value = ttest_1samp(df,popmean=15)\n",
    "print(f'p-value: {p_value}')\n",
    "\n",
    "alpha = 0.05\n",
    "if p_value < alpha:\n",
    "  print(f'Rejeita a hipótese nula, em favor da hipótese alternativa')\n",
    "else:\n",
    "  print(f'Falha em rejeitar a hipótese nula (Assume a hipótese nula)')\n",
    "\n",
    "# Com esse tamanho de amostra, não consigo afimar que o seu adubo teve efeito para a altura média das plantas\n",
    "# Assim, a média das plantas é de 15cm, a hipótese nula\n",
    "\n",
    "# Se p-value < alpha = rejeita H0\n",
    "# Se p-value < alpha = não existe evidência suficiente para se rejeitar H0"
   ]
  },
  {
   "cell_type": "markdown",
   "metadata": {},
   "source": [
    "## 3.2 Two-Sample Test (Condições paramétricas são satisfeitas)"
   ]
  },
  {
   "cell_type": "markdown",
   "metadata": {},
   "source": [
    "Problema 2: Pesquisadores gostariam de saber se duas espécies diferentes de plantas tem a mesma altura média após usar adubos diferentes em cada uma. Eles coletaram amostras aleatórias de 20 plantas de cada espécie."
   ]
  },
  {
   "cell_type": "code",
   "execution_count": 18,
   "metadata": {},
   "outputs": [
    {
     "name": "stdout",
     "output_type": "stream",
     "text": [
      "Média df1: 15.15\n",
      "Média df2: 15.8\n"
     ]
    }
   ],
   "source": [
    "df1 = np.array([14, 15, 15, 16, 13, 8, 14, 17, 16, 14, 19, 20, 21, 15, 15, 16, 16, 13, 14, 12])\n",
    "df2 = np.array([15, 17, 14, 17, 14, 8, 12, 19, 19, 14, 17, 22, 24, 16, 13, 16, 13, 18, 15, 13])\n",
    "\n",
    "#H0: u1 = u2 (A altura média das espécies dos dois grupos são iguais)\n",
    "#H1: u1 = u2 (A altura média das espécies dos dois grupos são diferentes)\n",
    "print(f'Média df1: {np.mean(df1)}')\n",
    "print(f'Média df2: {np.mean(df2)}')"
   ]
  },
  {
   "cell_type": "code",
   "execution_count": 26,
   "metadata": {},
   "outputs": [
    {
     "name": "stdout",
     "output_type": "stream",
     "text": [
      "p-value do df1: 0.226775856925707\n",
      "Falha em rejeitar a hipótese nula, então a distribuição de df1 é normal\n",
      "\n",
      "p-value do df2: 0.6782103872264504\n",
      "Falha em rejeitar a hipótese nula, então a distribuição de df2 é normal\n",
      "\n",
      "Var df1: 7.727500000000001\n",
      "Var df2: 12.260000000000002\n"
     ]
    }
   ],
   "source": [
    "#Condições Paramétricas\n",
    "#1. Amostrar independentes\n",
    "#Tira uma amostra e isso não impacta nas outras\n",
    "\n",
    "#2. Normalmente distribuidos - OK\n",
    "###Teste de Normalidade - Shapiro\n",
    "#H1: Distribuição não normal (Rejeitanto a hipótese nula, pode ter qualquer outra distribuição)\n",
    "#H0: Distribuição normalmente distribuída (Toda a mostra tende a ser uma normal, mesmo se a distribuição da população não for normal)\n",
    "statstic1,p_value1 = shapiro(df1)\n",
    "print(f'p-value do df1: {p_value1}')\n",
    "print(f'Falha em rejeitar a hipótese nula, então a distribuição de df1 é normal')\n",
    "\n",
    "statstic2,p_value2 = shapiro(df2)\n",
    "print(f'\\np-value do df2: {p_value2}')\n",
    "print(f'Falha em rejeitar a hipótese nula, então a distribuição de df2 é normal')\n",
    "\n",
    "#3. Variâncias iguais - OK\n",
    "print(f'\\nVar df1: {np.var(df1)}')\n",
    "print(f'Var df2: {np.var(df2)}')\n",
    "#Se dividir a maior variância pela menor e der menor que 4, podemos considerar as variâncias iguais"
   ]
  },
  {
   "cell_type": "code",
   "execution_count": 33,
   "metadata": {},
   "outputs": [
    {
     "name": "stdout",
     "output_type": "stream",
     "text": [
      "p-value: 0.5300471010405257\n",
      "Falha em rejeitar a hipótese nula (Assume a hipótese nula)\n"
     ]
    }
   ],
   "source": [
    "statstic_p2,p_value_p2 = ttest_ind(df1, df2,equal_var=True)\n",
    "print(f'p-value: {p_value_p2}')\n",
    "\n",
    "alpha = 0.05\n",
    "if p_value_p2 < alpha:\n",
    "  print(f'Rejeita a hipótese nula, em favor da hipótese alternativa')\n",
    "else:\n",
    "  print(f'Falha em rejeitar a hipótese nula (Assume a hipótese nula)')\n",
    "\n",
    "#Com o tamanho da amostra e o efeito apresentado eu não posso afirmar que uma planta é maior que a outra devido ao adubo, assumo então a hipótese nula, onde as médias de alturas delas são iguais"
   ]
  },
  {
   "cell_type": "markdown",
   "metadata": {},
   "source": [
    "## 3.3 Mann-Whitney U-test (Condições paramétricas não são satisfeitas)"
   ]
  },
  {
   "cell_type": "code",
   "execution_count": 17,
   "metadata": {},
   "outputs": [
    {
     "name": "stdout",
     "output_type": "stream",
     "text": [
      "Média df1: 21.416666666666668\n",
      "Média df2: 22.75\n"
     ]
    }
   ],
   "source": [
    "df1 = [20,23,21,20,18,17,18,14,20,24,43,19]\n",
    "df2 = [24,25,21,22,23,18,17,28,24,27,21,23]\n",
    "\n",
    "#H0: u1 = u2 (A altura média das plantas dos dois grupos são iguais)\n",
    "#H1: u1 = u2 (A altura média das plantas dos dois grupos são diferentes)\n",
    "print(f'Média df1: {np.mean(df1)}')\n",
    "print(f'Média df2: {np.mean(df2)}')"
   ]
  },
  {
   "cell_type": "code",
   "execution_count": 18,
   "metadata": {},
   "outputs": [
    {
     "name": "stderr",
     "output_type": "stream",
     "text": [
      "C:\\Users\\ian-g\\AppData\\Local\\Temp\\ipykernel_10980\\3473098423.py:1: UserWarning: \n",
      "\n",
      "`distplot` is a deprecated function and will be removed in seaborn v0.14.0.\n",
      "\n",
      "Please adapt your code to use either `displot` (a figure-level function with\n",
      "similar flexibility) or `histplot` (an axes-level function for histograms).\n",
      "\n",
      "For a guide to updating your code to use the new functions, please see\n",
      "https://gist.github.com/mwaskom/de44147ed2974457ad6372750bbe5751\n",
      "\n",
      "  sns.distplot(df1)\n"
     ]
    },
    {
     "data": {
      "text/plain": [
       "<Axes: ylabel='Density'>"
      ]
     },
     "execution_count": 18,
     "metadata": {},
     "output_type": "execute_result"
    },
    {
     "data": {
      "image/png": "[encoded data removed]",
      "text/plain": [
       "<Figure size 640x480 with 1 Axes>"
      ]
     },
     "metadata": {},
     "output_type": "display_data"
    }
   ],
   "source": [
    "sns.distplot(df1)"
   ]
  },
  {
   "cell_type": "code",
   "execution_count": 22,
   "metadata": {},
   "outputs": [
    {
     "name": "stderr",
     "output_type": "stream",
     "text": [
      "C:\\Users\\ian-g\\AppData\\Local\\Temp\\ipykernel_10980\\447768823.py:1: UserWarning: \n",
      "\n",
      "`distplot` is a deprecated function and will be removed in seaborn v0.14.0.\n",
      "\n",
      "Please adapt your code to use either `displot` (a figure-level function with\n",
      "similar flexibility) or `histplot` (an axes-level function for histograms).\n",
      "\n",
      "For a guide to updating your code to use the new functions, please see\n",
      "https://gist.github.com/mwaskom/de44147ed2974457ad6372750bbe5751\n",
      "\n",
      "  sns.distplot(df2)\n"
     ]
    },
    {
     "data": {
      "text/plain": [
       "<Axes: ylabel='Density'>"
      ]
     },
     "execution_count": 22,
     "metadata": {},
     "output_type": "execute_result"
    },
    {
     "data": {
      "image/png": "[encoded data removed]",
      "text/plain": [
       "<Figure size 640x480 with 1 Axes>"
      ]
     },
     "metadata": {},
     "output_type": "display_data"
    }
   ],
   "source": [
    "sns.distplot(df2)"
   ]
  },
  {
   "cell_type": "code",
   "execution_count": 9,
   "metadata": {},
   "outputs": [
    {
     "name": "stdout",
     "output_type": "stream",
     "text": [
      "p-value do df1: 0.0005459145557629783\n",
      "Falha em rejeitar a hipótese nula, então a distribuição de df1 é normal\n",
      "\n",
      "p-value do df2: 0.90215082763698\n",
      "Falha em rejeitar a hipótese nula, então a distribuição de df2 é normal\n",
      "\n",
      "Var df1: 48.743055555555564\n",
      "Var df2: 9.6875\n"
     ]
    }
   ],
   "source": [
    "#Condições Paramétricas\n",
    "#1. Amostrar independentes\n",
    "#Tira uma amostra e isso não impacta nas outras\n",
    "\n",
    "#2. Normalmente distribuidos - df1 não passa no teste de normalidade\n",
    "###Teste de Normalidade - Shapiro\n",
    "#H1: Distribuição não normal (Rejeitanto a hipótese nula, pode ter qualquer outra distribuição)\n",
    "#H0: Distribuição normalmente distribuída (Toda a mostra tende a ser uma normal, mesmo se a distribuição da população não for normal)\n",
    "statstic1,p_value1 = shapiro(df1)\n",
    "print(f'p-value do df1: {p_value1}')\n",
    "print(f'Falha em rejeitar a hipótese nula, então a distribuição de df1 é normal')\n",
    "\n",
    "statstic2,p_value2 = shapiro(df2)\n",
    "print(f'\\np-value do df2: {p_value2}')\n",
    "print(f'Falha em rejeitar a hipótese nula, então a distribuição de df2 é normal')\n",
    "\n",
    "#3. Variâncias iguais - Não são iguais\n",
    "print(f'\\nVar df1: {np.var(df1)}')\n",
    "print(f'Var df2: {np.var(df2)}')\n",
    "#Se dividir a maior variância pela menor e der menor que 4, podemos considerar as variâncias iguais"
   ]
  },
  {
   "cell_type": "code",
   "execution_count": 12,
   "metadata": {},
   "outputs": [
    {
     "name": "stdout",
     "output_type": "stream",
     "text": [
      "p-value: 0.07217495133598324\n",
      "Falha em rejeitar a hipótese nula (Assume a hipótese nula)\n"
     ]
    }
   ],
   "source": [
    "m_stats,m_p_value = mannwhitneyu(df1, df2)\n",
    "print(f'p-value: {m_p_value}')\n",
    "\n",
    "alpha = 0.05\n",
    "if m_p_value < alpha:\n",
    "  print(f'Rejeita a hipótese nula, em favor da hipótese alternativa')\n",
    "else:\n",
    "  print(f'Falha em rejeitar a hipótese nula (Assume a hipótese nula)')\n",
    "\n",
    "#Com o tamanho da amostra e o efeito apresentado eu não posso afirmar que uma planta é maior que a outra devido ao adubo, assumo então a hipótese nula, onde as médias de alturas delas são iguais\n",
    "#Ou melhora ou efeito, para que com menos amostrar, consiga ver a difença, ou colhe mais amostras"
   ]
  },
  {
   "cell_type": "markdown",
   "metadata": {},
   "source": [
    "## 3.4 "
   ]
  },
  {
   "cell_type": "markdown",
   "metadata": {},
   "source": [
    "Pesquisadores gostariam de saber se **existe uma diferente entre as médias de 4 grupos** que foram submetidos a tratamentos diferentes"
   ]
  },
  {
   "cell_type": "code",
   "execution_count": 23,
   "metadata": {},
   "outputs": [
    {
     "data": {
      "text/html": [
       "<div>\n",
       "<style scoped>\n",
       "    .dataframe tbody tr th:only-of-type {\n",
       "        vertical-align: middle;\n",
       "    }\n",
       "\n",
       "    .dataframe tbody tr th {\n",
       "        vertical-align: top;\n",
       "    }\n",
       "\n",
       "    .dataframe thead th {\n",
       "        text-align: right;\n",
       "    }\n",
       "</style>\n",
       "<table border=\"1\" class=\"dataframe\">\n",
       "  <thead>\n",
       "    <tr style=\"text-align: right;\">\n",
       "      <th></th>\n",
       "      <th>A</th>\n",
       "      <th>B</th>\n",
       "      <th>C</th>\n",
       "      <th>D</th>\n",
       "    </tr>\n",
       "  </thead>\n",
       "  <tbody>\n",
       "    <tr>\n",
       "      <th>0</th>\n",
       "      <td>25</td>\n",
       "      <td>45</td>\n",
       "      <td>30</td>\n",
       "      <td>54</td>\n",
       "    </tr>\n",
       "    <tr>\n",
       "      <th>1</th>\n",
       "      <td>30</td>\n",
       "      <td>55</td>\n",
       "      <td>29</td>\n",
       "      <td>60</td>\n",
       "    </tr>\n",
       "    <tr>\n",
       "      <th>2</th>\n",
       "      <td>28</td>\n",
       "      <td>29</td>\n",
       "      <td>33</td>\n",
       "      <td>51</td>\n",
       "    </tr>\n",
       "    <tr>\n",
       "      <th>3</th>\n",
       "      <td>36</td>\n",
       "      <td>56</td>\n",
       "      <td>37</td>\n",
       "      <td>62</td>\n",
       "    </tr>\n",
       "    <tr>\n",
       "      <th>4</th>\n",
       "      <td>29</td>\n",
       "      <td>40</td>\n",
       "      <td>27</td>\n",
       "      <td>73</td>\n",
       "    </tr>\n",
       "  </tbody>\n",
       "</table>\n",
       "</div>"
      ],
      "text/plain": [
       "    A   B   C   D\n",
       "0  25  45  30  54\n",
       "1  30  55  29  60\n",
       "2  28  29  33  51\n",
       "3  36  56  37  62\n",
       "4  29  40  27  73"
      ]
     },
     "execution_count": 23,
     "metadata": {},
     "output_type": "execute_result"
    }
   ],
   "source": [
    "df = pd.DataFrame( {'A': [25, 30, 28, 36, 29],\n",
    "'B': [45, 55, 29, 56, 40],\n",
    "'C': [30, 29, 33, 37, 27],\n",
    "'D': [54, 60, 51, 62, 73] } )\n",
    "df"
   ]
  },
  {
   "cell_type": "code",
   "execution_count": 26,
   "metadata": {},
   "outputs": [
    {
     "data": {
      "text/html": [
       "<div>\n",
       "<style scoped>\n",
       "    .dataframe tbody tr th:only-of-type {\n",
       "        vertical-align: middle;\n",
       "    }\n",
       "\n",
       "    .dataframe tbody tr th {\n",
       "        vertical-align: top;\n",
       "    }\n",
       "\n",
       "    .dataframe thead th {\n",
       "        text-align: right;\n",
       "    }\n",
       "</style>\n",
       "<table border=\"1\" class=\"dataframe\">\n",
       "  <thead>\n",
       "    <tr style=\"text-align: right;\">\n",
       "      <th></th>\n",
       "      <th>index</th>\n",
       "      <th>treatment</th>\n",
       "      <th>value</th>\n",
       "    </tr>\n",
       "  </thead>\n",
       "  <tbody>\n",
       "    <tr>\n",
       "      <th>0</th>\n",
       "      <td>0</td>\n",
       "      <td>A</td>\n",
       "      <td>25</td>\n",
       "    </tr>\n",
       "    <tr>\n",
       "      <th>1</th>\n",
       "      <td>1</td>\n",
       "      <td>A</td>\n",
       "      <td>30</td>\n",
       "    </tr>\n",
       "    <tr>\n",
       "      <th>2</th>\n",
       "      <td>2</td>\n",
       "      <td>A</td>\n",
       "      <td>28</td>\n",
       "    </tr>\n",
       "    <tr>\n",
       "      <th>3</th>\n",
       "      <td>3</td>\n",
       "      <td>A</td>\n",
       "      <td>36</td>\n",
       "    </tr>\n",
       "    <tr>\n",
       "      <th>4</th>\n",
       "      <td>4</td>\n",
       "      <td>A</td>\n",
       "      <td>29</td>\n",
       "    </tr>\n",
       "  </tbody>\n",
       "</table>\n",
       "</div>"
      ],
      "text/plain": [
       "   index treatment  value\n",
       "0      0         A     25\n",
       "1      1         A     30\n",
       "2      2         A     28\n",
       "3      3         A     36\n",
       "4      4         A     29"
      ]
     },
     "execution_count": 26,
     "metadata": {},
     "output_type": "execute_result"
    }
   ],
   "source": [
    "df_melt = pd.melt(df.reset_index(),id_vars=['index'],value_vars=['A','B','C','D'])\n",
    "df_melt.columns = ['index','treatment','value']\n",
    "df_melt.head()"
   ]
  },
  {
   "cell_type": "code",
   "execution_count": 30,
   "metadata": {},
   "outputs": [
    {
     "data": {
      "image/png": "[encoded data removed]",
      "text/plain": [
       "<Figure size 640x480 with 1 Axes>"
      ]
     },
     "metadata": {},
     "output_type": "display_data"
    }
   ],
   "source": [
    "sns.boxplot(x='treatment', y='value',data=df_melt);\n",
    "sns.swarmplot(x='treatment', y='value',data=df_melt,color='y');\n",
    "#Para fazer um teste A B é preciso de um planejamento de experimento, principalmente para separação da amostra\n",
    "#Sem isso, não daria para isolar os efeitos externos"
   ]
  },
  {
   "cell_type": "code",
   "execution_count": 45,
   "metadata": {},
   "outputs": [
    {
     "name": "stdout",
     "output_type": "stream",
     "text": [
      "p-value Grupo A: 0.6075583653996472\n",
      "Falha em rejeitar a hipótese nula, então a distribuição do Grupo A é normal\n",
      "\n",
      "p-value Grupo B: 0.5723675006691977\n",
      "Falha em rejeitar a hipótese nula, então a distribuição do Grupo B é normal\n",
      "\n",
      "p-value Grupo C: 0.7583121101708065\n",
      "Falha em rejeitar a hipótese nula, então a distribuição do Grupo C é normal\n",
      "\n",
      "p-value Grupo D: 0.7002370626370356\n",
      "Falha em rejeitar a hipótese nula, então a distribuição do Grupo D é normal\n",
      "\n",
      "Var A: 13.040000000000001\n",
      "Var B: 100.4\n",
      "Var C: 12.16\n",
      "Var D: 58.0\n"
     ]
    }
   ],
   "source": [
    "#Condições Paramétricas\n",
    "#1. Amostrar independentes\n",
    "#Tira uma amostra e isso não impacta nas outras\n",
    "\n",
    "#2. Normalmente distribuidos - df1 não passa no teste de normalidade\n",
    "###Teste de Normalidade - Shapiro\n",
    "#H1: Distribuição não normal (Rejeitanto a hipótese nula, pode ter qualquer outra distribuição)\n",
    "#H0: Distribuição normalmente distribuída (Toda a mostra tende a ser uma normal, mesmo se a distribuição da população não for normal)\n",
    "a_statstic,a_p_value = shapiro(df_melt.loc[df_melt['treatment'] == 'A','value'])\n",
    "print(f'p-value Grupo A: {a_p_value}')\n",
    "print(f'Falha em rejeitar a hipótese nula, então a distribuição do Grupo A é normal')\n",
    "\n",
    "b_statstic,b_p_value = shapiro(df_melt.loc[df_melt['treatment'] == 'B','value'])\n",
    "print(f'\\np-value Grupo B: {b_p_value}')\n",
    "print(f'Falha em rejeitar a hipótese nula, então a distribuição do Grupo B é normal')\n",
    "\n",
    "c_statstic,c_p_value = shapiro(df_melt.loc[df_melt['treatment'] == 'C','value'])\n",
    "print(f'\\np-value Grupo C: {c_p_value}')\n",
    "print(f'Falha em rejeitar a hipótese nula, então a distribuição do Grupo C é normal')\n",
    "\n",
    "d_statstic,d_p_value = shapiro(df_melt.loc[df_melt['treatment'] == 'D','value'])\n",
    "print(f'\\np-value Grupo D: {d_p_value}')\n",
    "print(f'Falha em rejeitar a hipótese nula, então a distribuição do Grupo D é normal')\n",
    "\n",
    "\n",
    "#3. Variâncias iguais - Não são iguais\n",
    "var_a = np.var(df_melt.loc[df_melt['treatment'] == 'A','value'])\n",
    "print(f'\\nVar A: {var_a}')\n",
    "var_b = np.var(df_melt.loc[df_melt['treatment'] == 'B','value'])\n",
    "print(f'Var B: {var_b}')\n",
    "var_c = np.var(df_melt.loc[df_melt['treatment'] == 'C','value'])\n",
    "print(f'Var C: {var_c}')\n",
    "var_d = np.var(df_melt.loc[df_melt['treatment'] == 'D','value'])\n",
    "print(f'Var D: {var_d}')\n",
    "#Se dividir a maior variância pela menor e der menor que 4, podemos considerar as variâncias iguais"
   ]
  },
  {
   "cell_type": "code",
   "execution_count": 49,
   "metadata": {},
   "outputs": [
    {
     "name": "stdout",
     "output_type": "stream",
     "text": [
      "p_value: 2.6392411462109217e-05\n",
      "Rejeita a hipótese nula, em favor da hipótese alternativa\n"
     ]
    }
   ],
   "source": [
    "stats,p_value = f_oneway(df_melt.loc[df_melt['treatment'] == 'A','value'],df_melt.loc[df_melt['treatment'] == 'B','value'],df_melt.loc[df_melt['treatment'] == 'C','value'],df_melt.loc[df_melt['treatment'] == 'D','value'])\n",
    "print(f'p_value: {p_value}')\n",
    "\n",
    "#H0: Não há diferença nas médias\n",
    "#H1: Há diferença nas médias\n",
    "\n",
    "alpha = 0.05\n",
    "if p_value < alpha:\n",
    "  print(f'Rejeita a hipótese nula, em favor da hipótese alternativa')\n",
    "else:\n",
    "  print(f'Falha em rejeitar a hipótese nula (Assume a hipótese nula)')"
   ]
  },
  {
   "cell_type": "code",
   "execution_count": 54,
   "metadata": {},
   "outputs": [
    {
     "name": "stdout",
     "output_type": "stream",
     "text": [
      "Multiple Comparison of Means - Tukey HSD, FWER=0.05\n",
      "===================================================\n",
      "group1 group2 meandiff p-adj   lower  upper  reject\n",
      "---------------------------------------------------\n",
      "     A      B     15.4 0.0251   1.694 29.106   True\n",
      "     A      C      1.6 0.9867 -12.106 15.306  False\n",
      "     A      D     30.4 0.0001  16.694 44.106   True\n",
      "     B      C    -13.8 0.0482 -27.506 -0.094   True\n",
      "     B      D     15.0 0.0296   1.294 28.706   True\n",
      "     C      D     28.8 0.0001  15.094 42.506   True\n",
      "---------------------------------------------------\n"
     ]
    }
   ],
   "source": [
    "tukey = pairwise_tukeyhsd(endog=df_melt['value'],groups=df_melt['treatment'],alpha=0.05)\n",
    "print(tukey)\n",
    "#O único que não posso rejeitar a hipótese nula é entre A e C, nos demais eu consigo dizer que há uma diferença significativa entre as médias"
   ]
  },
  {
   "cell_type": "code",
   "execution_count": null,
   "metadata": {},
   "outputs": [],
   "source": []
  },
  {
   "cell_type": "code",
   "execution_count": null,
   "metadata": {},
   "outputs": [],
   "source": [
    "group1 = [7, 14, 14, 13, 12, 9, 6, 14, 12, 8]\n",
    "group2 = [15, 17, 13, 15, 15, 13, 9, 12, 10, 8]\n",
    "group3 = [6, 8, 8, 9, 5, 14, 13, 8, 10, 9]"
   ]
  },
  {
   "cell_type": "code",
   "execution_count": null,
   "metadata": {},
   "outputs": [],
   "source": []
  }
 ],
 "metadata": {
  "kernelspec": {
   "display_name": "a_b",
   "language": "python",
   "name": "python3"
  },
  "language_info": {
   "codemirror_mode": {
    "name": "ipython",
    "version": 3
   },
   "file_extension": ".py",
   "mimetype": "text/x-python",
   "name": "python",
   "nbconvert_exporter": "python",
   "pygments_lexer": "ipython3",
   "version": "3.10.11"
  }
 },
 "nbformat": 4,
 "nbformat_minor": 2
}
